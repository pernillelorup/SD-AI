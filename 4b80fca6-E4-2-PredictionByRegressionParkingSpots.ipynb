{
 "cells": [
  {
   "cell_type": "markdown",
   "metadata": {},
   "source": [
    "# Assignment A4-1 Estimate the need of parking places in the city\n",
    "\n",
    "-Made some small changes to the excel file - use from my data folder\n"
   ]
  },
  {
   "cell_type": "markdown",
   "metadata": {},
   "source": [
    "## Step 1: Imports"
   ]
  },
  {
   "cell_type": "code",
   "execution_count": 1,
   "metadata": {
    "_uuid": "7067eed449bc9fd5121e1c17e3765d5a6aebc345"
   },
   "outputs": [],
   "source": [
    "import numpy as np\n",
    "import pandas as pd\n",
    "\n",
    "from sklearn.model_selection import train_test_split\n",
    "from sklearn import linear_model\n",
    "from sklearn.preprocessing import PolynomialFeatures\n",
    "from sklearn import metrics as sm\n",
    "\n",
    "import matplotlib.pyplot as plt\n",
    "import seaborn as sns\n",
    "%matplotlib inline\n",
    "\n",
    "from mpl_toolkits.mplot3d import Axes3D"
   ]
  },
  {
   "cell_type": "markdown",
   "metadata": {},
   "source": [
    "## Step 2: Data"
   ]
  },
  {
   "cell_type": "code",
   "execution_count": 2,
   "metadata": {},
   "outputs": [],
   "source": [
    "# read the data\n",
    "df = pd.read_excel(\"./data/parking-estimation2.xlsx\")"
   ]
  },
  {
   "cell_type": "code",
   "execution_count": 3,
   "metadata": {},
   "outputs": [
    {
     "data": {
      "text/html": [
       "<div>\n",
       "<style scoped>\n",
       "    .dataframe tbody tr th:only-of-type {\n",
       "        vertical-align: middle;\n",
       "    }\n",
       "\n",
       "    .dataframe tbody tr th {\n",
       "        vertical-align: top;\n",
       "    }\n",
       "\n",
       "    .dataframe thead th {\n",
       "        text-align: right;\n",
       "    }\n",
       "</style>\n",
       "<table border=\"1\" class=\"dataframe\">\n",
       "  <thead>\n",
       "    <tr style=\"text-align: right;\">\n",
       "      <th></th>\n",
       "      <th>City</th>\n",
       "      <th>Number_of_weekly_riders</th>\n",
       "      <th>Price_per_week</th>\n",
       "      <th>Population_of_city</th>\n",
       "      <th>Monthly_income_of_riders</th>\n",
       "      <th>Average_parking_rates_per_month</th>\n",
       "    </tr>\n",
       "  </thead>\n",
       "  <tbody>\n",
       "    <tr>\n",
       "      <th>0</th>\n",
       "      <td>1</td>\n",
       "      <td>192000.000000</td>\n",
       "      <td>15.000000</td>\n",
       "      <td>1800000.0</td>\n",
       "      <td>5800.0</td>\n",
       "      <td>50.0</td>\n",
       "    </tr>\n",
       "    <tr>\n",
       "      <th>1</th>\n",
       "      <td>2</td>\n",
       "      <td>190400.000000</td>\n",
       "      <td>15.000000</td>\n",
       "      <td>1790000.0</td>\n",
       "      <td>6200.0</td>\n",
       "      <td>50.0</td>\n",
       "    </tr>\n",
       "    <tr>\n",
       "      <th>2</th>\n",
       "      <td>3</td>\n",
       "      <td>191200.000000</td>\n",
       "      <td>15.000000</td>\n",
       "      <td>1780000.0</td>\n",
       "      <td>6400.0</td>\n",
       "      <td>60.0</td>\n",
       "    </tr>\n",
       "    <tr>\n",
       "      <th>3</th>\n",
       "      <td>4</td>\n",
       "      <td>177600.000000</td>\n",
       "      <td>25.000000</td>\n",
       "      <td>1778000.0</td>\n",
       "      <td>6500.0</td>\n",
       "      <td>60.0</td>\n",
       "    </tr>\n",
       "    <tr>\n",
       "      <th>4</th>\n",
       "      <td>5</td>\n",
       "      <td>176800.000000</td>\n",
       "      <td>25.000000</td>\n",
       "      <td>1750000.0</td>\n",
       "      <td>6550.0</td>\n",
       "      <td>60.0</td>\n",
       "    </tr>\n",
       "    <tr>\n",
       "      <th>5</th>\n",
       "      <td>6</td>\n",
       "      <td>178400.000000</td>\n",
       "      <td>25.000000</td>\n",
       "      <td>1740000.0</td>\n",
       "      <td>6580.0</td>\n",
       "      <td>70.0</td>\n",
       "    </tr>\n",
       "    <tr>\n",
       "      <th>6</th>\n",
       "      <td>7</td>\n",
       "      <td>180800.000000</td>\n",
       "      <td>25.000000</td>\n",
       "      <td>1725000.0</td>\n",
       "      <td>8200.0</td>\n",
       "      <td>75.0</td>\n",
       "    </tr>\n",
       "    <tr>\n",
       "      <th>7</th>\n",
       "      <td>8</td>\n",
       "      <td>175200.000000</td>\n",
       "      <td>30.000000</td>\n",
       "      <td>1725000.0</td>\n",
       "      <td>8600.0</td>\n",
       "      <td>75.0</td>\n",
       "    </tr>\n",
       "    <tr>\n",
       "      <th>8</th>\n",
       "      <td>9</td>\n",
       "      <td>174400.000000</td>\n",
       "      <td>30.000000</td>\n",
       "      <td>1720000.0</td>\n",
       "      <td>8800.0</td>\n",
       "      <td>75.0</td>\n",
       "    </tr>\n",
       "    <tr>\n",
       "      <th>9</th>\n",
       "      <td>10</td>\n",
       "      <td>173920.000000</td>\n",
       "      <td>30.000000</td>\n",
       "      <td>1705000.0</td>\n",
       "      <td>9200.0</td>\n",
       "      <td>80.0</td>\n",
       "    </tr>\n",
       "    <tr>\n",
       "      <th>10</th>\n",
       "      <td>11</td>\n",
       "      <td>172800.000000</td>\n",
       "      <td>30.000000</td>\n",
       "      <td>1710000.0</td>\n",
       "      <td>9630.0</td>\n",
       "      <td>80.0</td>\n",
       "    </tr>\n",
       "    <tr>\n",
       "      <th>11</th>\n",
       "      <td>12</td>\n",
       "      <td>163200.000000</td>\n",
       "      <td>40.000000</td>\n",
       "      <td>1700000.0</td>\n",
       "      <td>10570.0</td>\n",
       "      <td>80.0</td>\n",
       "    </tr>\n",
       "    <tr>\n",
       "      <th>12</th>\n",
       "      <td>13</td>\n",
       "      <td>161600.000000</td>\n",
       "      <td>40.000000</td>\n",
       "      <td>1695000.0</td>\n",
       "      <td>11330.0</td>\n",
       "      <td>85.0</td>\n",
       "    </tr>\n",
       "    <tr>\n",
       "      <th>13</th>\n",
       "      <td>14</td>\n",
       "      <td>161600.000000</td>\n",
       "      <td>40.000000</td>\n",
       "      <td>1695000.0</td>\n",
       "      <td>11600.0</td>\n",
       "      <td>100.0</td>\n",
       "    </tr>\n",
       "    <tr>\n",
       "      <th>14</th>\n",
       "      <td>15</td>\n",
       "      <td>160800.000000</td>\n",
       "      <td>40.000000</td>\n",
       "      <td>1690000.0</td>\n",
       "      <td>11800.0</td>\n",
       "      <td>105.0</td>\n",
       "    </tr>\n",
       "    <tr>\n",
       "      <th>15</th>\n",
       "      <td>16</td>\n",
       "      <td>159200.000000</td>\n",
       "      <td>40.000000</td>\n",
       "      <td>1630000.0</td>\n",
       "      <td>11830.0</td>\n",
       "      <td>105.0</td>\n",
       "    </tr>\n",
       "    <tr>\n",
       "      <th>16</th>\n",
       "      <td>17</td>\n",
       "      <td>148800.000000</td>\n",
       "      <td>65.000000</td>\n",
       "      <td>1640000.0</td>\n",
       "      <td>12650.0</td>\n",
       "      <td>105.0</td>\n",
       "    </tr>\n",
       "    <tr>\n",
       "      <th>17</th>\n",
       "      <td>18</td>\n",
       "      <td>115696.000000</td>\n",
       "      <td>102.000000</td>\n",
       "      <td>1635000.0</td>\n",
       "      <td>13000.0</td>\n",
       "      <td>110.0</td>\n",
       "    </tr>\n",
       "    <tr>\n",
       "      <th>18</th>\n",
       "      <td>19</td>\n",
       "      <td>147200.000000</td>\n",
       "      <td>75.000000</td>\n",
       "      <td>1630000.0</td>\n",
       "      <td>13224.0</td>\n",
       "      <td>125.0</td>\n",
       "    </tr>\n",
       "    <tr>\n",
       "      <th>19</th>\n",
       "      <td>20</td>\n",
       "      <td>150400.000000</td>\n",
       "      <td>75.000000</td>\n",
       "      <td>1620000.0</td>\n",
       "      <td>13766.0</td>\n",
       "      <td>130.0</td>\n",
       "    </tr>\n",
       "    <tr>\n",
       "      <th>20</th>\n",
       "      <td>21</td>\n",
       "      <td>152000.000000</td>\n",
       "      <td>75.000000</td>\n",
       "      <td>1615000.0</td>\n",
       "      <td>14010.0</td>\n",
       "      <td>150.0</td>\n",
       "    </tr>\n",
       "    <tr>\n",
       "      <th>21</th>\n",
       "      <td>22</td>\n",
       "      <td>136000.000000</td>\n",
       "      <td>80.000000</td>\n",
       "      <td>1605000.0</td>\n",
       "      <td>14468.0</td>\n",
       "      <td>155.0</td>\n",
       "    </tr>\n",
       "    <tr>\n",
       "      <th>22</th>\n",
       "      <td>23</td>\n",
       "      <td>126240.000000</td>\n",
       "      <td>86.000000</td>\n",
       "      <td>1590000.0</td>\n",
       "      <td>15000.0</td>\n",
       "      <td>165.0</td>\n",
       "    </tr>\n",
       "    <tr>\n",
       "      <th>23</th>\n",
       "      <td>24</td>\n",
       "      <td>123888.000000</td>\n",
       "      <td>98.000000</td>\n",
       "      <td>1595000.0</td>\n",
       "      <td>15200.0</td>\n",
       "      <td>175.0</td>\n",
       "    </tr>\n",
       "    <tr>\n",
       "      <th>24</th>\n",
       "      <td>25</td>\n",
       "      <td>126080.000000</td>\n",
       "      <td>87.000000</td>\n",
       "      <td>1590000.0</td>\n",
       "      <td>15600.0</td>\n",
       "      <td>175.0</td>\n",
       "    </tr>\n",
       "    <tr>\n",
       "      <th>25</th>\n",
       "      <td>26</td>\n",
       "      <td>151680.000000</td>\n",
       "      <td>77.000000</td>\n",
       "      <td>1600000.0</td>\n",
       "      <td>16000.0</td>\n",
       "      <td>190.0</td>\n",
       "    </tr>\n",
       "    <tr>\n",
       "      <th>26</th>\n",
       "      <td>27</td>\n",
       "      <td>152800.000000</td>\n",
       "      <td>63.000000</td>\n",
       "      <td>1610000.0</td>\n",
       "      <td>16200.0</td>\n",
       "      <td>200.0</td>\n",
       "    </tr>\n",
       "    <tr>\n",
       "      <th>27</th>\n",
       "      <td>average</td>\n",
       "      <td>160026.074074</td>\n",
       "      <td>49.925926</td>\n",
       "      <td>NaN</td>\n",
       "      <td>NaN</td>\n",
       "      <td>NaN</td>\n",
       "    </tr>\n",
       "  </tbody>\n",
       "</table>\n",
       "</div>"
      ],
      "text/plain": [
       "      City   Number_of_weekly_riders  Price_per_week  Population_of_city  \\\n",
       "0         1            192000.000000       15.000000           1800000.0   \n",
       "1         2            190400.000000       15.000000           1790000.0   \n",
       "2         3            191200.000000       15.000000           1780000.0   \n",
       "3         4            177600.000000       25.000000           1778000.0   \n",
       "4         5            176800.000000       25.000000           1750000.0   \n",
       "5         6            178400.000000       25.000000           1740000.0   \n",
       "6         7            180800.000000       25.000000           1725000.0   \n",
       "7         8            175200.000000       30.000000           1725000.0   \n",
       "8         9            174400.000000       30.000000           1720000.0   \n",
       "9        10            173920.000000       30.000000           1705000.0   \n",
       "10       11            172800.000000       30.000000           1710000.0   \n",
       "11       12            163200.000000       40.000000           1700000.0   \n",
       "12       13            161600.000000       40.000000           1695000.0   \n",
       "13       14            161600.000000       40.000000           1695000.0   \n",
       "14       15            160800.000000       40.000000           1690000.0   \n",
       "15       16            159200.000000       40.000000           1630000.0   \n",
       "16       17            148800.000000       65.000000           1640000.0   \n",
       "17       18            115696.000000      102.000000           1635000.0   \n",
       "18       19            147200.000000       75.000000           1630000.0   \n",
       "19       20            150400.000000       75.000000           1620000.0   \n",
       "20       21            152000.000000       75.000000           1615000.0   \n",
       "21       22            136000.000000       80.000000           1605000.0   \n",
       "22       23            126240.000000       86.000000           1590000.0   \n",
       "23       24            123888.000000       98.000000           1595000.0   \n",
       "24       25            126080.000000       87.000000           1590000.0   \n",
       "25       26            151680.000000       77.000000           1600000.0   \n",
       "26       27            152800.000000       63.000000           1610000.0   \n",
       "27  average            160026.074074       49.925926                 NaN   \n",
       "\n",
       "    Monthly_income_of_riders  Average_parking_rates_per_month  \n",
       "0                     5800.0                             50.0  \n",
       "1                     6200.0                             50.0  \n",
       "2                     6400.0                             60.0  \n",
       "3                     6500.0                             60.0  \n",
       "4                     6550.0                             60.0  \n",
       "5                     6580.0                             70.0  \n",
       "6                     8200.0                             75.0  \n",
       "7                     8600.0                             75.0  \n",
       "8                     8800.0                             75.0  \n",
       "9                     9200.0                             80.0  \n",
       "10                    9630.0                             80.0  \n",
       "11                   10570.0                             80.0  \n",
       "12                   11330.0                             85.0  \n",
       "13                   11600.0                            100.0  \n",
       "14                   11800.0                            105.0  \n",
       "15                   11830.0                            105.0  \n",
       "16                   12650.0                            105.0  \n",
       "17                   13000.0                            110.0  \n",
       "18                   13224.0                            125.0  \n",
       "19                   13766.0                            130.0  \n",
       "20                   14010.0                            150.0  \n",
       "21                   14468.0                            155.0  \n",
       "22                   15000.0                            165.0  \n",
       "23                   15200.0                            175.0  \n",
       "24                   15600.0                            175.0  \n",
       "25                   16000.0                            190.0  \n",
       "26                   16200.0                            200.0  \n",
       "27                       NaN                              NaN  "
      ]
     },
     "execution_count": 3,
     "metadata": {},
     "output_type": "execute_result"
    }
   ],
   "source": [
    "df"
   ]
  },
  {
   "cell_type": "code",
   "execution_count": 4,
   "metadata": {
    "_uuid": "2c69cc62eb545d1da46102e67852a72c97a794d1"
   },
   "outputs": [
    {
     "data": {
      "text/html": [
       "<div>\n",
       "<style scoped>\n",
       "    .dataframe tbody tr th:only-of-type {\n",
       "        vertical-align: middle;\n",
       "    }\n",
       "\n",
       "    .dataframe tbody tr th {\n",
       "        vertical-align: top;\n",
       "    }\n",
       "\n",
       "    .dataframe thead th {\n",
       "        text-align: right;\n",
       "    }\n",
       "</style>\n",
       "<table border=\"1\" class=\"dataframe\">\n",
       "  <thead>\n",
       "    <tr style=\"text-align: right;\">\n",
       "      <th></th>\n",
       "      <th>City</th>\n",
       "      <th>Number_of_weekly_riders</th>\n",
       "      <th>Price_per_week</th>\n",
       "      <th>Population_of_city</th>\n",
       "      <th>Monthly_income_of_riders</th>\n",
       "      <th>Average_parking_rates_per_month</th>\n",
       "    </tr>\n",
       "  </thead>\n",
       "  <tbody>\n",
       "    <tr>\n",
       "      <th>0</th>\n",
       "      <td>1</td>\n",
       "      <td>192000.0</td>\n",
       "      <td>15.0</td>\n",
       "      <td>1800000.0</td>\n",
       "      <td>5800.0</td>\n",
       "      <td>50.0</td>\n",
       "    </tr>\n",
       "    <tr>\n",
       "      <th>1</th>\n",
       "      <td>2</td>\n",
       "      <td>190400.0</td>\n",
       "      <td>15.0</td>\n",
       "      <td>1790000.0</td>\n",
       "      <td>6200.0</td>\n",
       "      <td>50.0</td>\n",
       "    </tr>\n",
       "    <tr>\n",
       "      <th>2</th>\n",
       "      <td>3</td>\n",
       "      <td>191200.0</td>\n",
       "      <td>15.0</td>\n",
       "      <td>1780000.0</td>\n",
       "      <td>6400.0</td>\n",
       "      <td>60.0</td>\n",
       "    </tr>\n",
       "    <tr>\n",
       "      <th>3</th>\n",
       "      <td>4</td>\n",
       "      <td>177600.0</td>\n",
       "      <td>25.0</td>\n",
       "      <td>1778000.0</td>\n",
       "      <td>6500.0</td>\n",
       "      <td>60.0</td>\n",
       "    </tr>\n",
       "    <tr>\n",
       "      <th>4</th>\n",
       "      <td>5</td>\n",
       "      <td>176800.0</td>\n",
       "      <td>25.0</td>\n",
       "      <td>1750000.0</td>\n",
       "      <td>6550.0</td>\n",
       "      <td>60.0</td>\n",
       "    </tr>\n",
       "  </tbody>\n",
       "</table>\n",
       "</div>"
      ],
      "text/plain": [
       "  City   Number_of_weekly_riders  Price_per_week  Population_of_city  \\\n",
       "0     1                 192000.0            15.0           1800000.0   \n",
       "1     2                 190400.0            15.0           1790000.0   \n",
       "2     3                 191200.0            15.0           1780000.0   \n",
       "3     4                 177600.0            25.0           1778000.0   \n",
       "4     5                 176800.0            25.0           1750000.0   \n",
       "\n",
       "   Monthly_income_of_riders  Average_parking_rates_per_month  \n",
       "0                    5800.0                             50.0  \n",
       "1                    6200.0                             50.0  \n",
       "2                    6400.0                             60.0  \n",
       "3                    6500.0                             60.0  \n",
       "4                    6550.0                             60.0  "
      ]
     },
     "execution_count": 4,
     "metadata": {},
     "output_type": "execute_result"
    }
   ],
   "source": [
    "# get idea of the look\n",
    "df.head()"
   ]
  },
  {
   "cell_type": "code",
   "execution_count": 5,
   "metadata": {
    "scrolled": true
   },
   "outputs": [
    {
     "data": {
      "text/html": [
       "<div>\n",
       "<style scoped>\n",
       "    .dataframe tbody tr th:only-of-type {\n",
       "        vertical-align: middle;\n",
       "    }\n",
       "\n",
       "    .dataframe tbody tr th {\n",
       "        vertical-align: top;\n",
       "    }\n",
       "\n",
       "    .dataframe thead th {\n",
       "        text-align: right;\n",
       "    }\n",
       "</style>\n",
       "<table border=\"1\" class=\"dataframe\">\n",
       "  <thead>\n",
       "    <tr style=\"text-align: right;\">\n",
       "      <th></th>\n",
       "      <th>City</th>\n",
       "      <th>Number_of_weekly_riders</th>\n",
       "      <th>Price_per_week</th>\n",
       "      <th>Population_of_city</th>\n",
       "      <th>Monthly_income_of_riders</th>\n",
       "      <th>Average_parking_rates_per_month</th>\n",
       "    </tr>\n",
       "  </thead>\n",
       "  <tbody>\n",
       "    <tr>\n",
       "      <th>23</th>\n",
       "      <td>24</td>\n",
       "      <td>123888.000000</td>\n",
       "      <td>98.000000</td>\n",
       "      <td>1595000.0</td>\n",
       "      <td>15200.0</td>\n",
       "      <td>175.0</td>\n",
       "    </tr>\n",
       "    <tr>\n",
       "      <th>24</th>\n",
       "      <td>25</td>\n",
       "      <td>126080.000000</td>\n",
       "      <td>87.000000</td>\n",
       "      <td>1590000.0</td>\n",
       "      <td>15600.0</td>\n",
       "      <td>175.0</td>\n",
       "    </tr>\n",
       "    <tr>\n",
       "      <th>25</th>\n",
       "      <td>26</td>\n",
       "      <td>151680.000000</td>\n",
       "      <td>77.000000</td>\n",
       "      <td>1600000.0</td>\n",
       "      <td>16000.0</td>\n",
       "      <td>190.0</td>\n",
       "    </tr>\n",
       "    <tr>\n",
       "      <th>26</th>\n",
       "      <td>27</td>\n",
       "      <td>152800.000000</td>\n",
       "      <td>63.000000</td>\n",
       "      <td>1610000.0</td>\n",
       "      <td>16200.0</td>\n",
       "      <td>200.0</td>\n",
       "    </tr>\n",
       "    <tr>\n",
       "      <th>27</th>\n",
       "      <td>average</td>\n",
       "      <td>160026.074074</td>\n",
       "      <td>49.925926</td>\n",
       "      <td>NaN</td>\n",
       "      <td>NaN</td>\n",
       "      <td>NaN</td>\n",
       "    </tr>\n",
       "  </tbody>\n",
       "</table>\n",
       "</div>"
      ],
      "text/plain": [
       "      City   Number_of_weekly_riders  Price_per_week  Population_of_city  \\\n",
       "23       24            123888.000000       98.000000           1595000.0   \n",
       "24       25            126080.000000       87.000000           1590000.0   \n",
       "25       26            151680.000000       77.000000           1600000.0   \n",
       "26       27            152800.000000       63.000000           1610000.0   \n",
       "27  average            160026.074074       49.925926                 NaN   \n",
       "\n",
       "    Monthly_income_of_riders  Average_parking_rates_per_month  \n",
       "23                   15200.0                            175.0  \n",
       "24                   15600.0                            175.0  \n",
       "25                   16000.0                            190.0  \n",
       "26                   16200.0                            200.0  \n",
       "27                       NaN                              NaN  "
      ]
     },
     "execution_count": 5,
     "metadata": {},
     "output_type": "execute_result"
    }
   ],
   "source": [
    "df.tail()"
   ]
  },
  {
   "cell_type": "code",
   "execution_count": 6,
   "metadata": {},
   "outputs": [
    {
     "data": {
      "text/html": [
       "<div>\n",
       "<style scoped>\n",
       "    .dataframe tbody tr th:only-of-type {\n",
       "        vertical-align: middle;\n",
       "    }\n",
       "\n",
       "    .dataframe tbody tr th {\n",
       "        vertical-align: top;\n",
       "    }\n",
       "\n",
       "    .dataframe thead th {\n",
       "        text-align: right;\n",
       "    }\n",
       "</style>\n",
       "<table border=\"1\" class=\"dataframe\">\n",
       "  <thead>\n",
       "    <tr style=\"text-align: right;\">\n",
       "      <th></th>\n",
       "      <th>City</th>\n",
       "      <th>Number_of_weekly_riders</th>\n",
       "      <th>Price_per_week</th>\n",
       "      <th>Population_of_city</th>\n",
       "      <th>Monthly_income_of_riders</th>\n",
       "      <th>Average_parking_rates_per_month</th>\n",
       "    </tr>\n",
       "  </thead>\n",
       "  <tbody>\n",
       "    <tr>\n",
       "      <th>22</th>\n",
       "      <td>23</td>\n",
       "      <td>126240.0</td>\n",
       "      <td>86.0</td>\n",
       "      <td>1590000.0</td>\n",
       "      <td>15000.0</td>\n",
       "      <td>165.0</td>\n",
       "    </tr>\n",
       "    <tr>\n",
       "      <th>23</th>\n",
       "      <td>24</td>\n",
       "      <td>123888.0</td>\n",
       "      <td>98.0</td>\n",
       "      <td>1595000.0</td>\n",
       "      <td>15200.0</td>\n",
       "      <td>175.0</td>\n",
       "    </tr>\n",
       "    <tr>\n",
       "      <th>24</th>\n",
       "      <td>25</td>\n",
       "      <td>126080.0</td>\n",
       "      <td>87.0</td>\n",
       "      <td>1590000.0</td>\n",
       "      <td>15600.0</td>\n",
       "      <td>175.0</td>\n",
       "    </tr>\n",
       "    <tr>\n",
       "      <th>25</th>\n",
       "      <td>26</td>\n",
       "      <td>151680.0</td>\n",
       "      <td>77.0</td>\n",
       "      <td>1600000.0</td>\n",
       "      <td>16000.0</td>\n",
       "      <td>190.0</td>\n",
       "    </tr>\n",
       "    <tr>\n",
       "      <th>26</th>\n",
       "      <td>27</td>\n",
       "      <td>152800.0</td>\n",
       "      <td>63.0</td>\n",
       "      <td>1610000.0</td>\n",
       "      <td>16200.0</td>\n",
       "      <td>200.0</td>\n",
       "    </tr>\n",
       "  </tbody>\n",
       "</table>\n",
       "</div>"
      ],
      "text/plain": [
       "   City   Number_of_weekly_riders  Price_per_week  Population_of_city  \\\n",
       "22    23                 126240.0            86.0           1590000.0   \n",
       "23    24                 123888.0            98.0           1595000.0   \n",
       "24    25                 126080.0            87.0           1590000.0   \n",
       "25    26                 151680.0            77.0           1600000.0   \n",
       "26    27                 152800.0            63.0           1610000.0   \n",
       "\n",
       "    Monthly_income_of_riders  Average_parking_rates_per_month  \n",
       "22                   15000.0                            165.0  \n",
       "23                   15200.0                            175.0  \n",
       "24                   15600.0                            175.0  \n",
       "25                   16000.0                            190.0  \n",
       "26                   16200.0                            200.0  "
      ]
     },
     "execution_count": 6,
     "metadata": {},
     "output_type": "execute_result"
    }
   ],
   "source": [
    "# drop the last row with null values\n",
    "df = df[:-1]\n",
    "df.tail()"
   ]
  },
  {
   "cell_type": "code",
   "execution_count": 7,
   "metadata": {},
   "outputs": [
    {
     "name": "stdout",
     "output_type": "stream",
     "text": [
      "<class 'pandas.core.frame.DataFrame'>\n",
      "RangeIndex: 27 entries, 0 to 26\n",
      "Data columns (total 6 columns):\n",
      " #   Column                           Non-Null Count  Dtype  \n",
      "---  ------                           --------------  -----  \n",
      " 0   City                             27 non-null     object \n",
      " 1   Number_of_weekly_riders          27 non-null     float64\n",
      " 2   Price_per_week                   27 non-null     float64\n",
      " 3   Population_of_city               27 non-null     float64\n",
      " 4   Monthly_income_of_riders         27 non-null     float64\n",
      " 5   Average_parking_rates_per_month  27 non-null     float64\n",
      "dtypes: float64(5), object(1)\n",
      "memory usage: 1.4+ KB\n"
     ]
    }
   ],
   "source": [
    "df.info()"
   ]
  },
  {
   "cell_type": "code",
   "execution_count": 8,
   "metadata": {},
   "outputs": [
    {
     "data": {
      "text/html": [
       "<div>\n",
       "<style scoped>\n",
       "    .dataframe tbody tr th:only-of-type {\n",
       "        vertical-align: middle;\n",
       "    }\n",
       "\n",
       "    .dataframe tbody tr th {\n",
       "        vertical-align: top;\n",
       "    }\n",
       "\n",
       "    .dataframe thead th {\n",
       "        text-align: right;\n",
       "    }\n",
       "</style>\n",
       "<table border=\"1\" class=\"dataframe\">\n",
       "  <thead>\n",
       "    <tr style=\"text-align: right;\">\n",
       "      <th></th>\n",
       "      <th>Number_of_weekly_riders</th>\n",
       "      <th>Price_per_week</th>\n",
       "      <th>Population_of_city</th>\n",
       "      <th>Monthly_income_of_riders</th>\n",
       "      <th>Average_parking_rates_per_month</th>\n",
       "    </tr>\n",
       "  </thead>\n",
       "  <tbody>\n",
       "    <tr>\n",
       "      <th>count</th>\n",
       "      <td>27.000000</td>\n",
       "      <td>27.000000</td>\n",
       "      <td>2.700000e+01</td>\n",
       "      <td>27.000000</td>\n",
       "      <td>27.000000</td>\n",
       "    </tr>\n",
       "    <tr>\n",
       "      <th>mean</th>\n",
       "      <td>160026.074074</td>\n",
       "      <td>49.925926</td>\n",
       "      <td>1.680111e+06</td>\n",
       "      <td>11063.259259</td>\n",
       "      <td>107.037037</td>\n",
       "    </tr>\n",
       "    <tr>\n",
       "      <th>std</th>\n",
       "      <td>21301.097303</td>\n",
       "      <td>27.627921</td>\n",
       "      <td>6.780307e+04</td>\n",
       "      <td>3416.627944</td>\n",
       "      <td>45.346089</td>\n",
       "    </tr>\n",
       "    <tr>\n",
       "      <th>min</th>\n",
       "      <td>115696.000000</td>\n",
       "      <td>15.000000</td>\n",
       "      <td>1.590000e+06</td>\n",
       "      <td>5800.000000</td>\n",
       "      <td>50.000000</td>\n",
       "    </tr>\n",
       "    <tr>\n",
       "      <th>25%</th>\n",
       "      <td>149600.000000</td>\n",
       "      <td>27.500000</td>\n",
       "      <td>1.617500e+06</td>\n",
       "      <td>8400.000000</td>\n",
       "      <td>75.000000</td>\n",
       "    </tr>\n",
       "    <tr>\n",
       "      <th>50%</th>\n",
       "      <td>161600.000000</td>\n",
       "      <td>40.000000</td>\n",
       "      <td>1.695000e+06</td>\n",
       "      <td>11600.000000</td>\n",
       "      <td>100.000000</td>\n",
       "    </tr>\n",
       "    <tr>\n",
       "      <th>75%</th>\n",
       "      <td>176000.000000</td>\n",
       "      <td>75.000000</td>\n",
       "      <td>1.725000e+06</td>\n",
       "      <td>13888.000000</td>\n",
       "      <td>140.000000</td>\n",
       "    </tr>\n",
       "    <tr>\n",
       "      <th>max</th>\n",
       "      <td>192000.000000</td>\n",
       "      <td>102.000000</td>\n",
       "      <td>1.800000e+06</td>\n",
       "      <td>16200.000000</td>\n",
       "      <td>200.000000</td>\n",
       "    </tr>\n",
       "  </tbody>\n",
       "</table>\n",
       "</div>"
      ],
      "text/plain": [
       "       Number_of_weekly_riders  Price_per_week  Population_of_city  \\\n",
       "count                27.000000       27.000000        2.700000e+01   \n",
       "mean             160026.074074       49.925926        1.680111e+06   \n",
       "std               21301.097303       27.627921        6.780307e+04   \n",
       "min              115696.000000       15.000000        1.590000e+06   \n",
       "25%              149600.000000       27.500000        1.617500e+06   \n",
       "50%              161600.000000       40.000000        1.695000e+06   \n",
       "75%              176000.000000       75.000000        1.725000e+06   \n",
       "max              192000.000000      102.000000        1.800000e+06   \n",
       "\n",
       "       Monthly_income_of_riders  Average_parking_rates_per_month  \n",
       "count                 27.000000                        27.000000  \n",
       "mean               11063.259259                       107.037037  \n",
       "std                 3416.627944                        45.346089  \n",
       "min                 5800.000000                        50.000000  \n",
       "25%                 8400.000000                        75.000000  \n",
       "50%                11600.000000                       100.000000  \n",
       "75%                13888.000000                       140.000000  \n",
       "max                16200.000000                       200.000000  "
      ]
     },
     "execution_count": 8,
     "metadata": {},
     "output_type": "execute_result"
    }
   ],
   "source": [
    "df.describe()"
   ]
  },
  {
   "cell_type": "code",
   "execution_count": 9,
   "metadata": {},
   "outputs": [
    {
     "data": {
      "text/plain": [
       "['City ',\n",
       " 'Number_of_weekly_riders',\n",
       " 'Price_per_week',\n",
       " 'Population_of_city',\n",
       " 'Monthly_income_of_riders',\n",
       " 'Average_parking_rates_per_month']"
      ]
     },
     "execution_count": 9,
     "metadata": {},
     "output_type": "execute_result"
    }
   ],
   "source": [
    "# see which are the attribute labels\n",
    "list(df)"
   ]
  },
  {
   "cell_type": "code",
   "execution_count": 10,
   "metadata": {},
   "outputs": [
    {
     "name": "stdout",
     "output_type": "stream",
     "text": [
      "<class 'pandas.core.frame.DataFrame'>\n",
      "RangeIndex: 27 entries, 0 to 26\n",
      "Data columns (total 6 columns):\n",
      " #   Column                           Non-Null Count  Dtype  \n",
      "---  ------                           --------------  -----  \n",
      " 0   City                             27 non-null     object \n",
      " 1   Number_of_weekly_riders          27 non-null     float64\n",
      " 2   Price_per_week                   27 non-null     float64\n",
      " 3   Population_of_city               27 non-null     float64\n",
      " 4   Monthly_income_of_riders         27 non-null     float64\n",
      " 5   Average_parking_rates_per_month  27 non-null     float64\n",
      "dtypes: float64(5), object(1)\n",
      "memory usage: 1.4+ KB\n"
     ]
    }
   ],
   "source": [
    "# get idea of columns and types\n",
    "df.info()"
   ]
  },
  {
   "cell_type": "code",
   "execution_count": 11,
   "metadata": {
    "_uuid": "f14f39886b01c812da46eedc95a0ffc47e37ead2",
    "scrolled": true
   },
   "outputs": [
    {
     "data": {
      "text/html": [
       "<div>\n",
       "<style scoped>\n",
       "    .dataframe tbody tr th:only-of-type {\n",
       "        vertical-align: middle;\n",
       "    }\n",
       "\n",
       "    .dataframe tbody tr th {\n",
       "        vertical-align: top;\n",
       "    }\n",
       "\n",
       "    .dataframe thead th {\n",
       "        text-align: right;\n",
       "    }\n",
       "</style>\n",
       "<table border=\"1\" class=\"dataframe\">\n",
       "  <thead>\n",
       "    <tr style=\"text-align: right;\">\n",
       "      <th></th>\n",
       "      <th>Number_of_weekly_riders</th>\n",
       "      <th>Price_per_week</th>\n",
       "      <th>Population_of_city</th>\n",
       "      <th>Monthly_income_of_riders</th>\n",
       "      <th>Average_parking_rates_per_month</th>\n",
       "    </tr>\n",
       "  </thead>\n",
       "  <tbody>\n",
       "    <tr>\n",
       "      <th>count</th>\n",
       "      <td>27.000000</td>\n",
       "      <td>27.000000</td>\n",
       "      <td>2.700000e+01</td>\n",
       "      <td>27.000000</td>\n",
       "      <td>27.000000</td>\n",
       "    </tr>\n",
       "    <tr>\n",
       "      <th>mean</th>\n",
       "      <td>160026.074074</td>\n",
       "      <td>49.925926</td>\n",
       "      <td>1.680111e+06</td>\n",
       "      <td>11063.259259</td>\n",
       "      <td>107.037037</td>\n",
       "    </tr>\n",
       "    <tr>\n",
       "      <th>std</th>\n",
       "      <td>21301.097303</td>\n",
       "      <td>27.627921</td>\n",
       "      <td>6.780307e+04</td>\n",
       "      <td>3416.627944</td>\n",
       "      <td>45.346089</td>\n",
       "    </tr>\n",
       "    <tr>\n",
       "      <th>min</th>\n",
       "      <td>115696.000000</td>\n",
       "      <td>15.000000</td>\n",
       "      <td>1.590000e+06</td>\n",
       "      <td>5800.000000</td>\n",
       "      <td>50.000000</td>\n",
       "    </tr>\n",
       "    <tr>\n",
       "      <th>25%</th>\n",
       "      <td>149600.000000</td>\n",
       "      <td>27.500000</td>\n",
       "      <td>1.617500e+06</td>\n",
       "      <td>8400.000000</td>\n",
       "      <td>75.000000</td>\n",
       "    </tr>\n",
       "    <tr>\n",
       "      <th>50%</th>\n",
       "      <td>161600.000000</td>\n",
       "      <td>40.000000</td>\n",
       "      <td>1.695000e+06</td>\n",
       "      <td>11600.000000</td>\n",
       "      <td>100.000000</td>\n",
       "    </tr>\n",
       "    <tr>\n",
       "      <th>75%</th>\n",
       "      <td>176000.000000</td>\n",
       "      <td>75.000000</td>\n",
       "      <td>1.725000e+06</td>\n",
       "      <td>13888.000000</td>\n",
       "      <td>140.000000</td>\n",
       "    </tr>\n",
       "    <tr>\n",
       "      <th>max</th>\n",
       "      <td>192000.000000</td>\n",
       "      <td>102.000000</td>\n",
       "      <td>1.800000e+06</td>\n",
       "      <td>16200.000000</td>\n",
       "      <td>200.000000</td>\n",
       "    </tr>\n",
       "  </tbody>\n",
       "</table>\n",
       "</div>"
      ],
      "text/plain": [
       "       Number_of_weekly_riders  Price_per_week  Population_of_city  \\\n",
       "count                27.000000       27.000000        2.700000e+01   \n",
       "mean             160026.074074       49.925926        1.680111e+06   \n",
       "std               21301.097303       27.627921        6.780307e+04   \n",
       "min              115696.000000       15.000000        1.590000e+06   \n",
       "25%              149600.000000       27.500000        1.617500e+06   \n",
       "50%              161600.000000       40.000000        1.695000e+06   \n",
       "75%              176000.000000       75.000000        1.725000e+06   \n",
       "max              192000.000000      102.000000        1.800000e+06   \n",
       "\n",
       "       Monthly_income_of_riders  Average_parking_rates_per_month  \n",
       "count                 27.000000                        27.000000  \n",
       "mean               11063.259259                       107.037037  \n",
       "std                 3416.627944                        45.346089  \n",
       "min                 5800.000000                        50.000000  \n",
       "25%                 8400.000000                        75.000000  \n",
       "50%                11600.000000                       100.000000  \n",
       "75%                13888.000000                       140.000000  \n",
       "max                16200.000000                       200.000000  "
      ]
     },
     "execution_count": 11,
     "metadata": {},
     "output_type": "execute_result"
    }
   ],
   "source": [
    "# get idea of basic statistical parameters for each column\n",
    "df.describe()"
   ]
  },
  {
   "cell_type": "code",
   "execution_count": 12,
   "metadata": {},
   "outputs": [
    {
     "data": {
      "text/plain": [
       "City                               0\n",
       "Number_of_weekly_riders            0\n",
       "Price_per_week                     0\n",
       "Population_of_city                 0\n",
       "Monthly_income_of_riders           0\n",
       "Average_parking_rates_per_month    0\n",
       "dtype: int64"
      ]
     },
     "execution_count": 12,
     "metadata": {},
     "output_type": "execute_result"
    }
   ],
   "source": [
    "# to check null values in data\n",
    "df.isnull().sum()"
   ]
  },
  {
   "cell_type": "code",
   "execution_count": 13,
   "metadata": {
    "_uuid": "3b62de2956e8484b4b6b63314d961a55d12cd0bc"
   },
   "outputs": [
    {
     "data": {
      "text/plain": [
       "<matplotlib.axes._subplots.AxesSubplot at 0x1a210b5810>"
      ]
     },
     "execution_count": 13,
     "metadata": {},
     "output_type": "execute_result"
    },
    {
     "data": {
      "image/png": "[encoded data removed]",
      "text/plain": [
       "<Figure size 432x288 with 1 Axes>"
      ]
     },
     "metadata": {
      "needs_background": "light"
     },
     "output_type": "display_data"
    }
   ],
   "source": [
    "df['Price_per_week'].value_counts().plot(kind='bar')"
   ]
  },
  {
   "cell_type": "code",
   "execution_count": 14,
   "metadata": {},
   "outputs": [
    {
     "data": {
      "text/plain": [
       "<matplotlib.axes._subplots.AxesSubplot at 0x1a21865490>"
      ]
     },
     "execution_count": 14,
     "metadata": {},
     "output_type": "execute_result"
    },
    {
     "data": {
      "image/png": "[encoded data removed]",
      "text/plain": [
       "<Figure size 432x288 with 1 Axes>"
      ]
     },
     "metadata": {
      "needs_background": "light"
     },
     "output_type": "display_data"
    }
   ],
   "source": [
    "# same, with anmother plot lib\n",
    "sns.countplot(df.Price_per_week, order = df['Price_per_week'].value_counts().index)"
   ]
  },
  {
   "cell_type": "code",
   "execution_count": 15,
   "metadata": {},
   "outputs": [],
   "source": [
    "# to avoid scientific notation, e.g. e+04\n",
    "pd.set_option('display.float_format', lambda x: '%.2f' % x)"
   ]
  },
  {
   "cell_type": "code",
   "execution_count": 16,
   "metadata": {
    "_uuid": "799af0c564fbb7dda045e1651ad657199aaf9d12",
    "scrolled": true
   },
   "outputs": [
    {
     "data": {
      "text/html": [
       "<div>\n",
       "<style scoped>\n",
       "    .dataframe tbody tr th:only-of-type {\n",
       "        vertical-align: middle;\n",
       "    }\n",
       "\n",
       "    .dataframe tbody tr th {\n",
       "        vertical-align: top;\n",
       "    }\n",
       "\n",
       "    .dataframe thead th {\n",
       "        text-align: right;\n",
       "    }\n",
       "</style>\n",
       "<table border=\"1\" class=\"dataframe\">\n",
       "  <thead>\n",
       "    <tr style=\"text-align: right;\">\n",
       "      <th></th>\n",
       "      <th>Number_of_weekly_riders</th>\n",
       "      <th>Price_per_week</th>\n",
       "      <th>Population_of_city</th>\n",
       "      <th>Monthly_income_of_riders</th>\n",
       "      <th>Average_parking_rates_per_month</th>\n",
       "    </tr>\n",
       "  </thead>\n",
       "  <tbody>\n",
       "    <tr>\n",
       "      <th>count</th>\n",
       "      <td>27.00</td>\n",
       "      <td>27.00</td>\n",
       "      <td>27.00</td>\n",
       "      <td>27.00</td>\n",
       "      <td>27.00</td>\n",
       "    </tr>\n",
       "    <tr>\n",
       "      <th>mean</th>\n",
       "      <td>160026.07</td>\n",
       "      <td>49.93</td>\n",
       "      <td>1680111.11</td>\n",
       "      <td>11063.26</td>\n",
       "      <td>107.04</td>\n",
       "    </tr>\n",
       "    <tr>\n",
       "      <th>std</th>\n",
       "      <td>21301.10</td>\n",
       "      <td>27.63</td>\n",
       "      <td>67803.07</td>\n",
       "      <td>3416.63</td>\n",
       "      <td>45.35</td>\n",
       "    </tr>\n",
       "    <tr>\n",
       "      <th>min</th>\n",
       "      <td>115696.00</td>\n",
       "      <td>15.00</td>\n",
       "      <td>1590000.00</td>\n",
       "      <td>5800.00</td>\n",
       "      <td>50.00</td>\n",
       "    </tr>\n",
       "    <tr>\n",
       "      <th>25%</th>\n",
       "      <td>149600.00</td>\n",
       "      <td>27.50</td>\n",
       "      <td>1617500.00</td>\n",
       "      <td>8400.00</td>\n",
       "      <td>75.00</td>\n",
       "    </tr>\n",
       "    <tr>\n",
       "      <th>50%</th>\n",
       "      <td>161600.00</td>\n",
       "      <td>40.00</td>\n",
       "      <td>1695000.00</td>\n",
       "      <td>11600.00</td>\n",
       "      <td>100.00</td>\n",
       "    </tr>\n",
       "    <tr>\n",
       "      <th>75%</th>\n",
       "      <td>176000.00</td>\n",
       "      <td>75.00</td>\n",
       "      <td>1725000.00</td>\n",
       "      <td>13888.00</td>\n",
       "      <td>140.00</td>\n",
       "    </tr>\n",
       "    <tr>\n",
       "      <th>max</th>\n",
       "      <td>192000.00</td>\n",
       "      <td>102.00</td>\n",
       "      <td>1800000.00</td>\n",
       "      <td>16200.00</td>\n",
       "      <td>200.00</td>\n",
       "    </tr>\n",
       "  </tbody>\n",
       "</table>\n",
       "</div>"
      ],
      "text/plain": [
       "       Number_of_weekly_riders  Price_per_week  Population_of_city  \\\n",
       "count                    27.00           27.00               27.00   \n",
       "mean                 160026.07           49.93          1680111.11   \n",
       "std                   21301.10           27.63            67803.07   \n",
       "min                  115696.00           15.00          1590000.00   \n",
       "25%                  149600.00           27.50          1617500.00   \n",
       "50%                  161600.00           40.00          1695000.00   \n",
       "75%                  176000.00           75.00          1725000.00   \n",
       "max                  192000.00          102.00          1800000.00   \n",
       "\n",
       "       Monthly_income_of_riders  Average_parking_rates_per_month  \n",
       "count                     27.00                            27.00  \n",
       "mean                   11063.26                           107.04  \n",
       "std                     3416.63                            45.35  \n",
       "min                     5800.00                            50.00  \n",
       "25%                     8400.00                            75.00  \n",
       "50%                    11600.00                           100.00  \n",
       "75%                    13888.00                           140.00  \n",
       "max                    16200.00                           200.00  "
      ]
     },
     "execution_count": 16,
     "metadata": {},
     "output_type": "execute_result"
    }
   ],
   "source": [
    "df.describe()"
   ]
  },
  {
   "cell_type": "code",
   "execution_count": 17,
   "metadata": {},
   "outputs": [
    {
     "name": "stdout",
     "output_type": "stream",
     "text": [
      "<class 'pandas.core.frame.DataFrame'>\n",
      "RangeIndex: 27 entries, 0 to 26\n",
      "Data columns (total 6 columns):\n",
      " #   Column                           Non-Null Count  Dtype  \n",
      "---  ------                           --------------  -----  \n",
      " 0   City                             27 non-null     object \n",
      " 1   Number_of_weekly_riders          27 non-null     float64\n",
      " 2   Price_per_week                   27 non-null     float64\n",
      " 3   Population_of_city               27 non-null     float64\n",
      " 4   Monthly_income_of_riders         27 non-null     float64\n",
      " 5   Average_parking_rates_per_month  27 non-null     float64\n",
      "dtypes: float64(5), object(1)\n",
      "memory usage: 1.4+ KB\n"
     ]
    }
   ],
   "source": [
    "df.info()"
   ]
  },
  {
   "cell_type": "markdown",
   "metadata": {},
   "source": [
    "## Step 3: Train a Model"
   ]
  },
  {
   "cell_type": "markdown",
   "metadata": {},
   "source": [
    "## 3.1 Linear Regression"
   ]
  },
  {
   "cell_type": "code",
   "execution_count": 18,
   "metadata": {},
   "outputs": [],
   "source": [
    "# split the set into subsets for training and testing\n",
    "train_data, test_data = train_test_split(df, train_size =0.8, random_state = 3)"
   ]
  },
  {
   "cell_type": "code",
   "execution_count": 19,
   "metadata": {},
   "outputs": [
    {
     "data": {
      "text/html": [
       "<div>\n",
       "<style scoped>\n",
       "    .dataframe tbody tr th:only-of-type {\n",
       "        vertical-align: middle;\n",
       "    }\n",
       "\n",
       "    .dataframe tbody tr th {\n",
       "        vertical-align: top;\n",
       "    }\n",
       "\n",
       "    .dataframe thead th {\n",
       "        text-align: right;\n",
       "    }\n",
       "</style>\n",
       "<table border=\"1\" class=\"dataframe\">\n",
       "  <thead>\n",
       "    <tr style=\"text-align: right;\">\n",
       "      <th></th>\n",
       "      <th>City</th>\n",
       "      <th>Number_of_weekly_riders</th>\n",
       "      <th>Price_per_week</th>\n",
       "      <th>Population_of_city</th>\n",
       "      <th>Monthly_income_of_riders</th>\n",
       "      <th>Average_parking_rates_per_month</th>\n",
       "    </tr>\n",
       "  </thead>\n",
       "  <tbody>\n",
       "    <tr>\n",
       "      <th>13</th>\n",
       "      <td>14</td>\n",
       "      <td>161600.00</td>\n",
       "      <td>40.00</td>\n",
       "      <td>1695000.00</td>\n",
       "      <td>11600.00</td>\n",
       "      <td>100.00</td>\n",
       "    </tr>\n",
       "    <tr>\n",
       "      <th>2</th>\n",
       "      <td>3</td>\n",
       "      <td>191200.00</td>\n",
       "      <td>15.00</td>\n",
       "      <td>1780000.00</td>\n",
       "      <td>6400.00</td>\n",
       "      <td>60.00</td>\n",
       "    </tr>\n",
       "    <tr>\n",
       "      <th>1</th>\n",
       "      <td>2</td>\n",
       "      <td>190400.00</td>\n",
       "      <td>15.00</td>\n",
       "      <td>1790000.00</td>\n",
       "      <td>6200.00</td>\n",
       "      <td>50.00</td>\n",
       "    </tr>\n",
       "    <tr>\n",
       "      <th>23</th>\n",
       "      <td>24</td>\n",
       "      <td>123888.00</td>\n",
       "      <td>98.00</td>\n",
       "      <td>1595000.00</td>\n",
       "      <td>15200.00</td>\n",
       "      <td>175.00</td>\n",
       "    </tr>\n",
       "    <tr>\n",
       "      <th>14</th>\n",
       "      <td>15</td>\n",
       "      <td>160800.00</td>\n",
       "      <td>40.00</td>\n",
       "      <td>1690000.00</td>\n",
       "      <td>11800.00</td>\n",
       "      <td>105.00</td>\n",
       "    </tr>\n",
       "    <tr>\n",
       "      <th>4</th>\n",
       "      <td>5</td>\n",
       "      <td>176800.00</td>\n",
       "      <td>25.00</td>\n",
       "      <td>1750000.00</td>\n",
       "      <td>6550.00</td>\n",
       "      <td>60.00</td>\n",
       "    </tr>\n",
       "    <tr>\n",
       "      <th>22</th>\n",
       "      <td>23</td>\n",
       "      <td>126240.00</td>\n",
       "      <td>86.00</td>\n",
       "      <td>1590000.00</td>\n",
       "      <td>15000.00</td>\n",
       "      <td>165.00</td>\n",
       "    </tr>\n",
       "    <tr>\n",
       "      <th>6</th>\n",
       "      <td>7</td>\n",
       "      <td>180800.00</td>\n",
       "      <td>25.00</td>\n",
       "      <td>1725000.00</td>\n",
       "      <td>8200.00</td>\n",
       "      <td>75.00</td>\n",
       "    </tr>\n",
       "    <tr>\n",
       "      <th>7</th>\n",
       "      <td>8</td>\n",
       "      <td>175200.00</td>\n",
       "      <td>30.00</td>\n",
       "      <td>1725000.00</td>\n",
       "      <td>8600.00</td>\n",
       "      <td>75.00</td>\n",
       "    </tr>\n",
       "    <tr>\n",
       "      <th>5</th>\n",
       "      <td>6</td>\n",
       "      <td>178400.00</td>\n",
       "      <td>25.00</td>\n",
       "      <td>1740000.00</td>\n",
       "      <td>6580.00</td>\n",
       "      <td>70.00</td>\n",
       "    </tr>\n",
       "    <tr>\n",
       "      <th>20</th>\n",
       "      <td>21</td>\n",
       "      <td>152000.00</td>\n",
       "      <td>75.00</td>\n",
       "      <td>1615000.00</td>\n",
       "      <td>14010.00</td>\n",
       "      <td>150.00</td>\n",
       "    </tr>\n",
       "    <tr>\n",
       "      <th>9</th>\n",
       "      <td>10</td>\n",
       "      <td>173920.00</td>\n",
       "      <td>30.00</td>\n",
       "      <td>1705000.00</td>\n",
       "      <td>9200.00</td>\n",
       "      <td>80.00</td>\n",
       "    </tr>\n",
       "    <tr>\n",
       "      <th>11</th>\n",
       "      <td>12</td>\n",
       "      <td>163200.00</td>\n",
       "      <td>40.00</td>\n",
       "      <td>1700000.00</td>\n",
       "      <td>10570.00</td>\n",
       "      <td>80.00</td>\n",
       "    </tr>\n",
       "    <tr>\n",
       "      <th>26</th>\n",
       "      <td>27</td>\n",
       "      <td>152800.00</td>\n",
       "      <td>63.00</td>\n",
       "      <td>1610000.00</td>\n",
       "      <td>16200.00</td>\n",
       "      <td>200.00</td>\n",
       "    </tr>\n",
       "    <tr>\n",
       "      <th>19</th>\n",
       "      <td>20</td>\n",
       "      <td>150400.00</td>\n",
       "      <td>75.00</td>\n",
       "      <td>1620000.00</td>\n",
       "      <td>13766.00</td>\n",
       "      <td>130.00</td>\n",
       "    </tr>\n",
       "    <tr>\n",
       "      <th>21</th>\n",
       "      <td>22</td>\n",
       "      <td>136000.00</td>\n",
       "      <td>80.00</td>\n",
       "      <td>1605000.00</td>\n",
       "      <td>14468.00</td>\n",
       "      <td>155.00</td>\n",
       "    </tr>\n",
       "    <tr>\n",
       "      <th>0</th>\n",
       "      <td>1</td>\n",
       "      <td>192000.00</td>\n",
       "      <td>15.00</td>\n",
       "      <td>1800000.00</td>\n",
       "      <td>5800.00</td>\n",
       "      <td>50.00</td>\n",
       "    </tr>\n",
       "    <tr>\n",
       "      <th>8</th>\n",
       "      <td>9</td>\n",
       "      <td>174400.00</td>\n",
       "      <td>30.00</td>\n",
       "      <td>1720000.00</td>\n",
       "      <td>8800.00</td>\n",
       "      <td>75.00</td>\n",
       "    </tr>\n",
       "    <tr>\n",
       "      <th>3</th>\n",
       "      <td>4</td>\n",
       "      <td>177600.00</td>\n",
       "      <td>25.00</td>\n",
       "      <td>1778000.00</td>\n",
       "      <td>6500.00</td>\n",
       "      <td>60.00</td>\n",
       "    </tr>\n",
       "    <tr>\n",
       "      <th>24</th>\n",
       "      <td>25</td>\n",
       "      <td>126080.00</td>\n",
       "      <td>87.00</td>\n",
       "      <td>1590000.00</td>\n",
       "      <td>15600.00</td>\n",
       "      <td>175.00</td>\n",
       "    </tr>\n",
       "    <tr>\n",
       "      <th>10</th>\n",
       "      <td>11</td>\n",
       "      <td>172800.00</td>\n",
       "      <td>30.00</td>\n",
       "      <td>1710000.00</td>\n",
       "      <td>9630.00</td>\n",
       "      <td>80.00</td>\n",
       "    </tr>\n",
       "  </tbody>\n",
       "</table>\n",
       "</div>"
      ],
      "text/plain": [
       "   City   Number_of_weekly_riders  Price_per_week  Population_of_city  \\\n",
       "13    14                161600.00           40.00          1695000.00   \n",
       "2      3                191200.00           15.00          1780000.00   \n",
       "1      2                190400.00           15.00          1790000.00   \n",
       "23    24                123888.00           98.00          1595000.00   \n",
       "14    15                160800.00           40.00          1690000.00   \n",
       "4      5                176800.00           25.00          1750000.00   \n",
       "22    23                126240.00           86.00          1590000.00   \n",
       "6      7                180800.00           25.00          1725000.00   \n",
       "7      8                175200.00           30.00          1725000.00   \n",
       "5      6                178400.00           25.00          1740000.00   \n",
       "20    21                152000.00           75.00          1615000.00   \n",
       "9     10                173920.00           30.00          1705000.00   \n",
       "11    12                163200.00           40.00          1700000.00   \n",
       "26    27                152800.00           63.00          1610000.00   \n",
       "19    20                150400.00           75.00          1620000.00   \n",
       "21    22                136000.00           80.00          1605000.00   \n",
       "0      1                192000.00           15.00          1800000.00   \n",
       "8      9                174400.00           30.00          1720000.00   \n",
       "3      4                177600.00           25.00          1778000.00   \n",
       "24    25                126080.00           87.00          1590000.00   \n",
       "10    11                172800.00           30.00          1710000.00   \n",
       "\n",
       "    Monthly_income_of_riders  Average_parking_rates_per_month  \n",
       "13                  11600.00                           100.00  \n",
       "2                    6400.00                            60.00  \n",
       "1                    6200.00                            50.00  \n",
       "23                  15200.00                           175.00  \n",
       "14                  11800.00                           105.00  \n",
       "4                    6550.00                            60.00  \n",
       "22                  15000.00                           165.00  \n",
       "6                    8200.00                            75.00  \n",
       "7                    8600.00                            75.00  \n",
       "5                    6580.00                            70.00  \n",
       "20                  14010.00                           150.00  \n",
       "9                    9200.00                            80.00  \n",
       "11                  10570.00                            80.00  \n",
       "26                  16200.00                           200.00  \n",
       "19                  13766.00                           130.00  \n",
       "21                  14468.00                           155.00  \n",
       "0                    5800.00                            50.00  \n",
       "8                    8800.00                            75.00  \n",
       "3                    6500.00                            60.00  \n",
       "24                  15600.00                           175.00  \n",
       "10                   9630.00                            80.00  "
      ]
     },
     "execution_count": 19,
     "metadata": {},
     "output_type": "execute_result"
    }
   ],
   "source": [
    "train_data"
   ]
  },
  {
   "cell_type": "code",
   "execution_count": 20,
   "metadata": {},
   "outputs": [
    {
     "data": {
      "text/html": [
       "<div>\n",
       "<style scoped>\n",
       "    .dataframe tbody tr th:only-of-type {\n",
       "        vertical-align: middle;\n",
       "    }\n",
       "\n",
       "    .dataframe tbody tr th {\n",
       "        vertical-align: top;\n",
       "    }\n",
       "\n",
       "    .dataframe thead th {\n",
       "        text-align: right;\n",
       "    }\n",
       "</style>\n",
       "<table border=\"1\" class=\"dataframe\">\n",
       "  <thead>\n",
       "    <tr style=\"text-align: right;\">\n",
       "      <th></th>\n",
       "      <th>City</th>\n",
       "      <th>Number_of_weekly_riders</th>\n",
       "      <th>Price_per_week</th>\n",
       "      <th>Population_of_city</th>\n",
       "      <th>Monthly_income_of_riders</th>\n",
       "      <th>Average_parking_rates_per_month</th>\n",
       "    </tr>\n",
       "  </thead>\n",
       "  <tbody>\n",
       "    <tr>\n",
       "      <th>18</th>\n",
       "      <td>19</td>\n",
       "      <td>147200.00</td>\n",
       "      <td>75.00</td>\n",
       "      <td>1630000.00</td>\n",
       "      <td>13224.00</td>\n",
       "      <td>125.00</td>\n",
       "    </tr>\n",
       "    <tr>\n",
       "      <th>17</th>\n",
       "      <td>18</td>\n",
       "      <td>115696.00</td>\n",
       "      <td>102.00</td>\n",
       "      <td>1635000.00</td>\n",
       "      <td>13000.00</td>\n",
       "      <td>110.00</td>\n",
       "    </tr>\n",
       "    <tr>\n",
       "      <th>12</th>\n",
       "      <td>13</td>\n",
       "      <td>161600.00</td>\n",
       "      <td>40.00</td>\n",
       "      <td>1695000.00</td>\n",
       "      <td>11330.00</td>\n",
       "      <td>85.00</td>\n",
       "    </tr>\n",
       "    <tr>\n",
       "      <th>25</th>\n",
       "      <td>26</td>\n",
       "      <td>151680.00</td>\n",
       "      <td>77.00</td>\n",
       "      <td>1600000.00</td>\n",
       "      <td>16000.00</td>\n",
       "      <td>190.00</td>\n",
       "    </tr>\n",
       "    <tr>\n",
       "      <th>15</th>\n",
       "      <td>16</td>\n",
       "      <td>159200.00</td>\n",
       "      <td>40.00</td>\n",
       "      <td>1630000.00</td>\n",
       "      <td>11830.00</td>\n",
       "      <td>105.00</td>\n",
       "    </tr>\n",
       "    <tr>\n",
       "      <th>16</th>\n",
       "      <td>17</td>\n",
       "      <td>148800.00</td>\n",
       "      <td>65.00</td>\n",
       "      <td>1640000.00</td>\n",
       "      <td>12650.00</td>\n",
       "      <td>105.00</td>\n",
       "    </tr>\n",
       "  </tbody>\n",
       "</table>\n",
       "</div>"
      ],
      "text/plain": [
       "   City   Number_of_weekly_riders  Price_per_week  Population_of_city  \\\n",
       "18    19                147200.00           75.00          1630000.00   \n",
       "17    18                115696.00          102.00          1635000.00   \n",
       "12    13                161600.00           40.00          1695000.00   \n",
       "25    26                151680.00           77.00          1600000.00   \n",
       "15    16                159200.00           40.00          1630000.00   \n",
       "16    17                148800.00           65.00          1640000.00   \n",
       "\n",
       "    Monthly_income_of_riders  Average_parking_rates_per_month  \n",
       "18                  13224.00                           125.00  \n",
       "17                  13000.00                           110.00  \n",
       "12                  11330.00                            85.00  \n",
       "25                  16000.00                           190.00  \n",
       "15                  11830.00                           105.00  \n",
       "16                  12650.00                           105.00  "
      ]
     },
     "execution_count": 20,
     "metadata": {},
     "output_type": "execute_result"
    }
   ],
   "source": [
    "test_data"
   ]
  },
  {
   "cell_type": "code",
   "execution_count": 21,
   "metadata": {},
   "outputs": [],
   "source": [
    "X_train = np.array(train_data['Number_of_weekly_riders']).reshape(-1,1)\n",
    "y_train = np.array(train_data['Average_parking_rates_per_month']).reshape(-1, 1)\n",
    "X_test = np.array(test_data['Number_of_weekly_riders']).reshape(-1,1)\n",
    "y_test = np.array(test_data['Average_parking_rates_per_month']).reshape(-1, 1)"
   ]
  },
  {
   "cell_type": "code",
   "execution_count": 22,
   "metadata": {},
   "outputs": [
    {
     "data": {
      "text/plain": [
       "array([[100.],\n",
       "       [ 60.],\n",
       "       [ 50.],\n",
       "       [175.],\n",
       "       [105.],\n",
       "       [ 60.],\n",
       "       [165.],\n",
       "       [ 75.],\n",
       "       [ 75.],\n",
       "       [ 70.],\n",
       "       [150.],\n",
       "       [ 80.],\n",
       "       [ 80.],\n",
       "       [200.],\n",
       "       [130.],\n",
       "       [155.],\n",
       "       [ 50.],\n",
       "       [ 75.],\n",
       "       [ 60.],\n",
       "       [175.],\n",
       "       [ 80.]])"
      ]
     },
     "execution_count": 22,
     "metadata": {},
     "output_type": "execute_result"
    }
   ],
   "source": [
    "y_train"
   ]
  },
  {
   "cell_type": "code",
   "execution_count": 23,
   "metadata": {},
   "outputs": [],
   "source": [
    "# Create regressor\n",
    "regressor = linear_model.LinearRegression()"
   ]
  },
  {
   "cell_type": "code",
   "execution_count": 24,
   "metadata": {},
   "outputs": [],
   "source": [
    "# Train model\n",
    "model = regressor.fit(X_train, y_train)"
   ]
  },
  {
   "cell_type": "code",
   "execution_count": 25,
   "metadata": {},
   "outputs": [
    {
     "data": {
      "text/plain": [
       "LinearRegression(copy_X=True, fit_intercept=True, n_jobs=None, normalize=False)"
      ]
     },
     "execution_count": 25,
     "metadata": {},
     "output_type": "execute_result"
    }
   ],
   "source": [
    "model"
   ]
  },
  {
   "cell_type": "markdown",
   "metadata": {},
   "source": [
    "## Step 4: Test the Model"
   ]
  },
  {
   "cell_type": "code",
   "execution_count": 26,
   "metadata": {
    "_uuid": "ec0881a8551740e613bcd899241c19e11628f33f"
   },
   "outputs": [],
   "source": [
    "# make prediction\n",
    "y_predicted = regressor.predict(X_test)"
   ]
  },
  {
   "cell_type": "code",
   "execution_count": 27,
   "metadata": {},
   "outputs": [
    {
     "data": {
      "text/plain": [
       "array([[136.56657014],\n",
       "       [200.23524961],\n",
       "       [107.46458359],\n",
       "       [127.51261877],\n",
       "       [112.31491469],\n",
       "       [133.33301608]])"
      ]
     },
     "execution_count": 27,
     "metadata": {},
     "output_type": "execute_result"
    }
   ],
   "source": [
    "y_predicted"
   ]
  },
  {
   "cell_type": "code",
   "execution_count": 28,
   "metadata": {
    "scrolled": true
   },
   "outputs": [
    {
     "data": {
      "text/plain": [
       "array([[125.],\n",
       "       [110.],\n",
       "       [ 85.],\n",
       "       [190.],\n",
       "       [105.],\n",
       "       [105.]])"
      ]
     },
     "execution_count": 28,
     "metadata": {},
     "output_type": "execute_result"
    }
   ],
   "source": [
    "y_test"
   ]
  },
  {
   "cell_type": "code",
   "execution_count": 29,
   "metadata": {},
   "outputs": [
    {
     "name": "stderr",
     "output_type": "stream",
     "text": [
      "No handles with labels found to put in legend.\n"
     ]
    },
    {
     "data": {
      "image/png": "[encoded data removed]",
      "text/plain": [
       "<Figure size 432x288 with 1 Axes>"
      ]
     },
     "metadata": {
      "needs_background": "light"
     },
     "output_type": "display_data"
    }
   ],
   "source": [
    "# plot the prediction\n",
    "plt.xlabel('Number of weekly riders')\n",
    "plt.ylabel('Avg parking rates per month')\n",
    "plt.legend()\n",
    "\n",
    "plt.scatter(X_test[:,0], y_test, color='green', label = 'test data')\n",
    "plt.plot(X_test[:,0], y_predicted, color='red', linewidth=2, label= 'predicted regression line')\n",
    "\n",
    "# y_predicted, X_test, \n",
    "plt.show()"
   ]
  },
  {
   "cell_type": "code",
   "execution_count": 30,
   "metadata": {},
   "outputs": [
    {
     "name": "stdout",
     "output_type": "stream",
     "text": [
      "Coefficient a:  [[-0.00202097]]\n",
      "Intercept b:  [434.05354378]\n"
     ]
    }
   ],
   "source": [
    "# Compute the coeficients a and b\n",
    "# so the formula would be y = ax + b\n",
    "a = regressor.coef_\n",
    "b = regressor.intercept_\n",
    "print('Coefficient a: ', a)\n",
    "print('Intercept b: ', b)"
   ]
  },
  {
   "cell_type": "code",
   "execution_count": 31,
   "metadata": {},
   "outputs": [
    {
     "name": "stdout",
     "output_type": "stream",
     "text": [
      "Linear Regressor Performance\n",
      "Mean squared error: 2256.96\n",
      "Explained variance score  -0.79\n",
      "R-squared (training)  0.83\n",
      "R-squared (testing)  -1.02\n",
      "R2 score: -1.02\n"
     ]
    }
   ],
   "source": [
    "# Compute performance metrics\n",
    "print(\"Linear Regressor Performance\")\n",
    "\n",
    "# The mean squared error\n",
    "print(\"Mean squared error: %.2f\" % sm.mean_squared_error(y_test, y_predicted))\n",
    "\n",
    "# Explained variance score: 1 is perfect prediction\n",
    "print('Explained variance score ', round(sm.explained_variance_score(y_test, y_predicted), 2))\n",
    "print('R-squared (training) ', round(regressor.score(X_train, y_train), 2))\n",
    "print('R-squared (testing) ',  round(regressor.score(X_test, y_test), 2))\n",
    "print('R2 score: %.2f' % sm.r2_score(y_test, y_predicted))"
   ]
  },
  {
   "cell_type": "code",
   "execution_count": 32,
   "metadata": {
    "_uuid": "bc0a0d6e6538cb9a2c364ebf48b7755e4f882a65"
   },
   "outputs": [
    {
     "data": {
      "text/plain": [
       "<matplotlib.legend.Legend at 0x1a21b5bb90>"
      ]
     },
     "execution_count": 32,
     "metadata": {},
     "output_type": "execute_result"
    },
    {
     "data": {
      "image/png": "[encoded data removed]",
      "text/plain": [
       "<Figure size 432x288 with 1 Axes>"
      ]
     },
     "metadata": {
      "needs_background": "light"
     },
     "output_type": "display_data"
    }
   ],
   "source": [
    "plt.scatter(X_test[:,0], y_test, color= 'darkgreen', label = 'data')\n",
    "plt.plot(X_train[:,0], regressor.predict(X_train), color='red', label= ' Predicted Regression line')\n",
    "plt.xlabel('Number of weekly riders')\n",
    "plt.ylabel('Avg parking rates per month')\n",
    "plt.legend()"
   ]
  },
  {
   "cell_type": "markdown",
   "metadata": {},
   "source": [
    "## 3.2 Multiple Regression\n",
    "This is a linear regression, where more input features participate.<br>\n",
    "_y = c + a1 x X1 + a2 x X2 + a3 x X3 + a4 x X4 + a5 x X5 + a6 x X6_"
   ]
  },
  {
   "cell_type": "code",
   "execution_count": 33,
   "metadata": {},
   "outputs": [],
   "source": [
    "# select features\n",
    "features1 = ['Number_of_weekly_riders','Population_of_city','Average_parking_rates_per_month']\n",
    "regressor1 = linear_model.LinearRegression()"
   ]
  },
  {
   "cell_type": "code",
   "execution_count": 34,
   "metadata": {},
   "outputs": [
    {
     "data": {
      "text/plain": [
       "LinearRegression(copy_X=True, fit_intercept=True, n_jobs=None, normalize=False)"
      ]
     },
     "execution_count": 34,
     "metadata": {},
     "output_type": "execute_result"
    }
   ],
   "source": [
    "regressor1.fit(train_data[features1],train_data['Average_parking_rates_per_month'])"
   ]
  },
  {
   "cell_type": "code",
   "execution_count": 35,
   "metadata": {},
   "outputs": [],
   "source": [
    "y_prediction = regressor1.predict(test_data[features1])"
   ]
  },
  {
   "cell_type": "code",
   "execution_count": 36,
   "metadata": {},
   "outputs": [
    {
     "name": "stdout",
     "output_type": "stream",
     "text": [
      "Multiple Regression Performance\n",
      "Coefficients ai (one for each input variable/feature):  [-1.61129761e-15  4.65722807e-16  1.00000000e+00]\n",
      "Intercept c:  -5.243805389909539e-10\n"
     ]
    }
   ],
   "source": [
    "# Compute performance metrics\n",
    "print(\"Multiple Regression Performance\")\n",
    "\n",
    "# The coefficients\n",
    "print('Coefficients ai (one for each input variable/feature): ', regressor1.coef_)\n",
    "print('Intercept c: ', regressor1.intercept_)"
   ]
  },
  {
   "cell_type": "code",
   "execution_count": 37,
   "metadata": {},
   "outputs": [
    {
     "name": "stdout",
     "output_type": "stream",
     "text": [
      "Mean squared error: 0.00\n",
      "R-squared (training)  1.0\n",
      "R-squared (testing)  1.0\n",
      "Explained variance score  1.0\n",
      "R2 score: 1.00\n"
     ]
    }
   ],
   "source": [
    "# The mean squared error\n",
    "print(\"Mean squared error: %.2f\" % sm.mean_squared_error(y_test, y_prediction))\n",
    "\n",
    "# Explained variance score: 1 is perfect prediction\n",
    "print('R-squared (training) ', round(regressor1.score(train_data[features1], train_data['Average_parking_rates_per_month']), 3))\n",
    "print('R-squared (testing) ', round(regressor1.score(test_data[features1], test_data['Average_parking_rates_per_month']), 3))\n",
    "print('Explained variance score ', round(sm.explained_variance_score(y_test, y_prediction), 2))\n",
    "print('R2 score: %.2f' % sm.r2_score(y_test, y_prediction))"
   ]
  },
  {
   "cell_type": "markdown",
   "metadata": {},
   "source": [
    "## 3.3 Polynomial Regression \n",
    "_y = a + b1 x X + b2 x X^2 + ... + bn x X^n_"
   ]
  },
  {
   "cell_type": "code",
   "execution_count": 38,
   "metadata": {},
   "outputs": [],
   "source": [
    "y_train_poly = np.array(train_data['Average_parking_rates_per_month']).reshape(-1, 1)"
   ]
  },
  {
   "cell_type": "code",
   "execution_count": 39,
   "metadata": {
    "_uuid": "482a102b6c7db55209f9e861067dfc673e3ee6e6"
   },
   "outputs": [],
   "source": [
    "# We chose the living space in sqm as an input and price as an output\n",
    "# reshape(-1,1) reshapes the column in one-dimensional array (1 column) and unknown number of rows (-1)\n",
    "X_train = np.array(train_data['Number_of_weekly_riders']).reshape(-1,1)\n",
    "y_train = np.array(train_data['Average_parking_rates_per_month']).reshape(-1, 1)\n",
    "X_test = np.array(test_data['Number_of_weekly_riders']).reshape(-1,1)\n",
    "y_test = np.array(test_data['Average_parking_rates_per_month']).reshape(-1, 1)"
   ]
  },
  {
   "cell_type": "code",
   "execution_count": 40,
   "metadata": {},
   "outputs": [],
   "source": [
    "# polynimial regressi0n transforms the features of X from [x_1, x_2]\n",
    "# to [1, x_1, x_2, x_1^2, x_1 x_2, x_2^2] \n",
    "# so now they can be used in a linear regression model\n",
    "# features2 = ['sqm','waterfront','yr_built']\n",
    "features2 = 'Number_of_weekly_riders'\n",
    "train_data_feature = train_data[features2].values.reshape(-1,1)\n",
    "test_data_feature = test_data[features2].values.reshape(-1,1)\n",
    "#y_train_data_reshaped = y_train.values.reshape(-1,1)\n",
    "# train_data['price']"
   ]
  },
  {
   "cell_type": "code",
   "execution_count": 41,
   "metadata": {},
   "outputs": [],
   "source": [
    "from sklearn.preprocessing import PolynomialFeatures\n",
    "def polynomial_regression_model(degree):\n",
    "    \n",
    "  poly_features = PolynomialFeatures(degree=degree)\n",
    "  \n",
    "  # transforms the existing features to higher degree features.\n",
    "  X_train_poly = poly_features.fit_transform(X_train)\n",
    "  X_test_poly =  poly_features.fit_transform(X_test)\n",
    "  \n",
    "  # fit the transformed features to Linear Regression\n",
    "  model = linear_model.LinearRegression()\n",
    "  poly_model = model.fit(X_train_poly, y_train)\n",
    "  \n",
    "  # predicting on training data-set\n",
    "  y_train_predicted = poly_model.predict(X_train_poly)\n",
    "  \n",
    "  # predicting on test data-set\n",
    "  y_test_predicted = poly_model.predict(X_test_poly)"
   ]
  },
  {
   "cell_type": "code",
   "execution_count": 42,
   "metadata": {},
   "outputs": [],
   "source": [
    "# execute\n",
    "polynomial_regression_model(2)"
   ]
  },
  {
   "cell_type": "code",
   "execution_count": 43,
   "metadata": {},
   "outputs": [],
   "source": [
    "poly = PolynomialFeatures(degree=2)\n",
    "X_train_poly = poly.fit_transform(train_data_feature)\n",
    "X_test_poly = poly.fit_transform(test_data_feature)\n",
    "y_train_poly = np.array(train_data['Average_parking_rates_per_month']).reshape(-1, 1)\n",
    "y_test_poly = np.array(test_data['Average_parking_rates_per_month']).reshape(-1, 1)\n",
    "#poly.fit(X_train_poly, train_data['price'].values.reshape(-1,1))\n",
    "# poly.fit(X_train_poly, y_train)"
   ]
  },
  {
   "cell_type": "code",
   "execution_count": 44,
   "metadata": {
    "_uuid": "d0b8a9d1570d9922210445cb12ac088bfa98da29"
   },
   "outputs": [
    {
     "data": {
      "text/plain": [
       "LinearRegression(copy_X=True, fit_intercept=True, n_jobs=None, normalize=False)"
      ]
     },
     "execution_count": 44,
     "metadata": {},
     "output_type": "execute_result"
    }
   ],
   "source": [
    "# use linear regression\n",
    "model = linear_model.LinearRegression()\n",
    "model.fit(X_train_poly, y_train)"
   ]
  },
  {
   "cell_type": "code",
   "execution_count": 45,
   "metadata": {},
   "outputs": [],
   "source": [
    "# linear prediction with poly fit data\n",
    "y_train_predicted = model.predict(X_train_poly)\n",
    "y_test_predicted = model.predict(X_test_poly)  "
   ]
  },
  {
   "cell_type": "code",
   "execution_count": 46,
   "metadata": {},
   "outputs": [
    {
     "data": {
      "text/plain": [
       "array([[139.0372616 ],\n",
       "       [191.78620865],\n",
       "       [110.52223044],\n",
       "       [130.46202812],\n",
       "       [115.4666269 ],\n",
       "       [136.00538082]])"
      ]
     },
     "execution_count": 46,
     "metadata": {},
     "output_type": "execute_result"
    }
   ],
   "source": [
    "# y_train_predicted\n",
    "y_test_predicted"
   ]
  },
  {
   "cell_type": "code",
   "execution_count": 47,
   "metadata": {},
   "outputs": [],
   "source": [
    "# RMSE (Root mean squared error) answers the question: \"How similar, on average, are the numbers in list1 to list2?\"  \n",
    "# evaluating the model on training dataset\n",
    "rmse_train = np.sqrt(sm.mean_squared_error(y_train, y_train_predicted))\n",
    "r2_train = sm.r2_score(y_train, y_train_predicted)\n",
    "  \n",
    "# evaluating the model on test dataset\n",
    "rmse_test = np.sqrt(sm.mean_squared_error(y_test, y_test_predicted))\n",
    "r2_test = sm.r2_score(y_test, y_test_predicted)"
   ]
  },
  {
   "cell_type": "code",
   "execution_count": 48,
   "metadata": {},
   "outputs": [
    {
     "name": "stdout",
     "output_type": "stream",
     "text": [
      "RMSE (training)  19.216126483914028\n",
      "RMSE (testing)  45.005679082883326\n"
     ]
    }
   ],
   "source": [
    "# print the measures - positive?\n",
    "print('RMSE (training) ',rmse_train)\n",
    "print('RMSE (testing) ',rmse_test)"
   ]
  },
  {
   "cell_type": "code",
   "execution_count": 49,
   "metadata": {},
   "outputs": [
    {
     "name": "stdout",
     "output_type": "stream",
     "text": [
      "Multiple Regression Performance\n",
      "Coefficient:  [[ 0.00000000e+00  7.72903634e-05 -6.66289139e-09]]\n",
      "Intercept:  [272.03058463]\n",
      "R-squared (training)  0.829\n",
      "R-squared (testing)  -0.814\n"
     ]
    }
   ],
   "source": [
    "# Compute other performance metrics\n",
    "print(\"Multiple Regression Performance\")\n",
    "\n",
    "# The coefficients\n",
    "print('Coefficient: ', model.coef_)\n",
    "print('Intercept: ', model.intercept_)\n",
    "\n",
    "# Explained variance score: 1 is perfect prediction\n",
    "print('R-squared (training) ', round(r2_train, 3))\n",
    "print('R-squared (testing) ', round(r2_test, 3))"
   ]
  },
  {
   "cell_type": "code",
   "execution_count": 50,
   "metadata": {},
   "outputs": [
    {
     "name": "stdout",
     "output_type": "stream",
     "text": [
      "Explained variance score  0.829\n",
      "Explained variance score  -0.549\n"
     ]
    }
   ],
   "source": [
    "# compare \n",
    "print('Explained variance score ', round(sm.explained_variance_score(y_train, y_train_predicted), 3))\n",
    "print('Explained variance score ', round(sm.explained_variance_score(y_test, y_test_predicted), 3))"
   ]
  },
  {
   "cell_type": "code",
   "execution_count": 51,
   "metadata": {},
   "outputs": [
    {
     "data": {
      "image/png": "[encoded data removed]",
      "text/plain": [
       "<Figure size 432x288 with 1 Axes>"
      ]
     },
     "metadata": {
      "needs_background": "light"
     },
     "output_type": "display_data"
    }
   ],
   "source": [
    "# Plot\n",
    "plt.title('Polynomial Regression') \n",
    "plt.xlabel('feature')\n",
    "plt.ylabel('Average_parking_rates_per_month')\n",
    "plt.scatter(test_data_feature, y_test,  color = 'green', label = 'test data') \n",
    "  \n",
    "#plt.plot(X_plot_poly,model.predict(X_plot_poly),'-r')\n",
    "plt.plot(test_data_feature, y_test_poly, '-r', color='red', linewidth=1)\n",
    "plt.plot(test_data_feature, y_test_predicted, '-r', color='red', linewidth=1)\n",
    "plt.show()"
   ]
  },
  {
   "cell_type": "code",
   "execution_count": null,
   "metadata": {},
   "outputs": [],
   "source": []
  }
 ],
 "metadata": {
  "kernelspec": {
   "display_name": "Python 3",
   "language": "python",
   "name": "python3"
  },
  "language_info": {
   "codemirror_mode": {
    "name": "ipython",
    "version": 3
   },
   "file_extension": ".py",
   "mimetype": "text/x-python",
   "name": "python",
   "nbconvert_exporter": "python",
   "pygments_lexer": "ipython3",
   "version": "3.7.4"
  }
 },
 "nbformat": 4,
 "nbformat_minor": 1
}
